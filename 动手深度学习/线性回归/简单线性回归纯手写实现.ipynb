{
 "cells": [
  {
   "cell_type": "markdown",
   "metadata": {},
   "source": [
    "# 简单线性回归纯手写的实现\n",
    "来自于李沐的线上网课， 不调用torch的一些库，只使用python的numpy和matplotlib，使用torch或者深度学习的思路来实现整个流程。"
   ]
  },
  {
   "cell_type": "code",
   "execution_count": 25,
   "metadata": {},
   "outputs": [],
   "source": [
    "import numpy as np\n",
    "import torch\n",
    "import matplotlib.pyplot as plt\n",
    "import random\n",
    "%matplotlib inline"
   ]
  },
  {
   "cell_type": "markdown",
   "metadata": {},
   "source": [
    "## 1. 创建伪造的数据或者数据集\n",
    "使用真实的`w=[4,-1.2].T, b=4.2`来创建数据集，并且加入一些噪音，否则线性回归问题是以一个可以在数学上推导出准确解的问题，这里的噪音是为了模拟真实的数据。\n",
    "`y = Wx + b + noise`"
   ]
  },
  {
   "cell_type": "code",
   "execution_count": 26,
   "metadata": {},
   "outputs": [
    {
     "name": "stdout",
     "output_type": "stream",
     "text": [
      "torch.Size([1000, 2]) torch.Size([1000])\n",
      "tensor([-0.4679, -0.3185]) tensor(2.7117)\n"
     ]
    }
   ],
   "source": [
    "# 人造数据集\n",
    "def synthetic_data(weight, bias, num_samples):\n",
    "    x = torch.normal(0, 1, (num_samples, len(weight)))  # normal函数 均值为0，方差为1的正态分布\n",
    "    # 矩阵乘以向量\n",
    "    y = torch.matmul(x, weight) + bias\n",
    "    y += torch.normal(0, 0.01, y.shape) # 添加噪声\n",
    "    return x, y\n",
    "weights = torch.tensor([4.0, -1.2], dtype=torch.float32).T\n",
    "bias = torch.tensor(4.2, dtype=torch.float32)\n",
    "features, labels = synthetic_data(weights, bias, 1000)\n",
    "print(features.shape, labels.shape)\n",
    "print(features[0], labels[0])"
   ]
  },
  {
   "cell_type": "code",
   "execution_count": 27,
   "metadata": {},
   "outputs": [
    {
     "data": {
      "image/png": "[encoded data removed]",
      "text/plain": [
       "<Figure size 432x288 with 1 Axes>"
      ]
     },
     "metadata": {
      "needs_background": "light"
     },
     "output_type": "display_data"
    }
   ],
   "source": [
    "plt.scatter(features[:, 0], labels, s=10)\n",
    "plt.show()"
   ]
  },
  {
   "cell_type": "markdown",
   "metadata": {},
   "source": [
    "## 2.  创建数据加载器迭代加载数据集\n",
    "小批量的读取数据集，可以使得训练满足自己的设备的要求，在某种程度上也能够提高训练速度和准确率。"
   ]
  },
  {
   "cell_type": "code",
   "execution_count": 28,
   "metadata": {},
   "outputs": [
    {
     "name": "stdout",
     "output_type": "stream",
     "text": [
      "torch.Size([8, 2]) torch.Size([8])\n",
      "tensor([[ 1.2822,  2.2235],\n",
      "        [-1.0220, -0.7334],\n",
      "        [ 0.7188, -0.0924],\n",
      "        [-0.4403, -0.0403],\n",
      "        [ 0.6984, -1.5965],\n",
      "        [ 2.1427,  0.6858],\n",
      "        [-2.0843, -2.1378],\n",
      "        [-0.0451, -0.8326]]) tensor([ 6.6601,  0.9767,  7.1921,  2.4768,  8.8955, 11.9559, -1.5568,  5.0069])\n"
     ]
    },
    {
     "data": {
      "image/png": "[encoded data removed]",
      "text/plain": [
       "<Figure size 432x288 with 1 Axes>"
      ]
     },
     "metadata": {
      "needs_background": "light"
     },
     "output_type": "display_data"
    }
   ],
   "source": [
    "def data_iter(batch_size, features, labels):\n",
    "    \"\"\"\n",
    "    打乱数据集，并每次读取一个批量的数据\n",
    "    params:\n",
    "        @batch_size: 批量的大小\n",
    "        @features: 特征矩阵或者向量集合\n",
    "        @labels: 标签集合\n",
    "    return:\n",
    "        yield 返回每个批次的数据集\n",
    "    \"\"\"\n",
    "    num_samples = len(features)  # 获取总数\n",
    "    indices = list(range(num_samples))  # 获取所有元素的下标\n",
    "    random.shuffle(indices)  # 打乱这些下标，保证数据的随机读取\n",
    "    # for i in range(1, int(num_samples / batch_size)):  自己实现的写法，不太完善\n",
    "    #     index_end = i * batch_size\n",
    "    #     index_start = index_end - batch_size\n",
    "    #     yield features[index_start:index_end,:],labels[index_start:index_end]\n",
    "    \n",
    "    # 按照打乱的下标切分并读取\n",
    "    for i in range(1, int(num_samples / batch_size)):\n",
    "        indice = indices[i * batch_size - batch_size:min(batch_size * i, num_samples)]  # 后面的min是防止溢出\n",
    "        yield features[indice], labels[indice]\n",
    "\n",
    "for X, y in data_iter(8, features, labels):\n",
    "    print(X.shape, y.shape)\n",
    "    print(X, y)\n",
    "    break\n",
    "plt.scatter(X.numpy()[:,0], y.numpy())\n",
    "plt.show()\n"
   ]
  },
  {
   "cell_type": "markdown",
   "metadata": {},
   "source": [
    "## 3. 对模型的参数进行初始化\n",
    "初始化模型的参数`w`和`b`"
   ]
  },
  {
   "cell_type": "code",
   "execution_count": 29,
   "metadata": {},
   "outputs": [
    {
     "name": "stdout",
     "output_type": "stream",
     "text": [
      "tensor([[-0.5696],\n",
      "        [-1.8414]], requires_grad=True) tensor([0.], requires_grad=True)\n"
     ]
    }
   ],
   "source": [
    "w = torch.randn([2,1], requires_grad=True)\n",
    "b = torch.zeros(1, requires_grad = True)\n",
    "print(w, b)"
   ]
  },
  {
   "cell_type": "markdown",
   "metadata": {},
   "source": [
    "## 4. 创建线性回归模型\n",
    "创建线性回归模型函数，也就是y = wx + b"
   ]
  },
  {
   "cell_type": "code",
   "execution_count": 30,
   "metadata": {},
   "outputs": [],
   "source": [
    "def linear(weight, bais, feature):\n",
    "    \"\"\"\n",
    "    params:\n",
    "        weight: 权重\n",
    "        bais: 偏移\n",
    "        x: batch_size 的向量集合\n",
    "    \"\"\"\n",
    "    y = torch.matmul(feature, weight) + bais\n",
    "    return y\n",
    "\n",
    "\n"
   ]
  },
  {
   "cell_type": "markdown",
   "metadata": {},
   "source": [
    "## 5. 定义损失函数\n",
    "使用平方误差函数，也就是预测值与真实值之间的差值的平方的1/2"
   ]
  },
  {
   "cell_type": "code",
   "execution_count": 31,
   "metadata": {},
   "outputs": [],
   "source": [
    "def squared_loss(predict, labels):\n",
    "    \"\"\"\n",
    "    @predict: 预测值 shape=(8,1)\n",
    "    @labels: 真实值 shape=(8,)\n",
    "    \"\"\"\n",
    "    return (labels - predict.reshape(labels.shape)) **2 / 2"
   ]
  },
  {
   "cell_type": "markdown",
   "metadata": {},
   "source": [
    "## 6. 定义优化函数\n",
    "核心就是梯度的方向就是变化最大的方向，而上面的损失函数的值最小，表示整个模型的精度越高，所以这个最优化问题就是使得上述的损失函数值最小。\n",
    "利用梯度下降法，找到梯度最大的地方，然后计算出按照此梯度下降之后的值，从而计算出其参数，用来更新我门原来的参数。"
   ]
  },
  {
   "cell_type": "code",
   "execution_count": 32,
   "metadata": {},
   "outputs": [],
   "source": [
    "def sgd(params, lr, batch_size):\n",
    "    \"\"\"\n",
    "    @params: 模型的参数， params.grad 就是参数的梯度\n",
    "    @lr: 在梯度的方向下降的大小\n",
    "    @batch_size: 批量的大小\n",
    "    \"\"\"\n",
    "    with torch.no_grad():\n",
    "        for param in params:\n",
    "            # 在梯度的方向下降\n",
    "            param -= param.grad * lr / batch_size\n",
    "            param.grad.zero_()"
   ]
  },
  {
   "cell_type": "markdown",
   "metadata": {},
   "source": [
    "## 7. 模型的训练\n",
    "有了损失函数，模型，优化器，就可以开始对模型进行训练了。"
   ]
  },
  {
   "cell_type": "code",
   "execution_count": 33,
   "metadata": {},
   "outputs": [
    {
     "name": "stdout",
     "output_type": "stream",
     "text": [
      "Epoch 0, loss 49.81\n",
      "Epoch 1, loss 0.19\n",
      "Epoch 2, loss 0.05\n",
      "tensor([[ 3.9987],\n",
      "        [-1.1996]], requires_grad=True) tensor([4.2003], requires_grad=True)\n"
     ]
    }
   ],
   "source": [
    "# 定义迭代的次数\n",
    "num_epochs = 3\n",
    "loss_fn = squared_loss\n",
    "lr = 0.03\n",
    "batch_size = 10\n",
    "for i in range(num_epochs):\n",
    "    for X, Y in data_iter(batch_size, features, labels):\n",
    "        #  首先是前向传播计算一次预测结果\n",
    "        predicts = linear(w, b, X)\n",
    "        # print(predicts.shape)\n",
    "        # print(Y.shape)\n",
    "        # 计算损失\n",
    "        loss = loss_fn(predicts, Y)\n",
    "        # print(loss)\n",
    "        # 损失方向传播计算梯度,每一个的单独的损失求和，也就是一个小批量的所有的损失，所有的损失再求梯度，最后得到的也就是整个损失的梯度\n",
    "        loss.sum().backward()  # 利用张量的反向传播的性质可以直接求梯度,也就是求了w和b的梯度，结果会存在w和b张量里面\n",
    "        # 利用求出来的梯度进行优化\n",
    "        sgd([w,b], lr, batch_size)\n",
    "    with torch.no_grad():\n",
    "        train_loss = loss_fn(linear(w, b, features), labels).sum()\n",
    "        print(\"Epoch {}, loss {:.2f}\".format(i, train_loss))\n",
    " \n",
    "print(w, b)\n"
   ]
  },
  {
   "cell_type": "code",
   "execution_count": 36,
   "metadata": {},
   "outputs": [
    {
     "name": "stdout",
     "output_type": "stream",
     "text": [
      "weight误差 tensor([ 0.0013, -0.0004], grad_fn=<SubBackward0>)\n",
      "bias误差 tensor([-0.0003], grad_fn=<SubBackward0>)\n"
     ]
    }
   ],
   "source": [
    "print(\"weight误差\",weights-w.reshape(weights.shape))\n",
    "print(\"bias误差\", bias-b)"
   ]
  },
  {
   "cell_type": "markdown",
   "metadata": {},
   "source": [
    "## 8.可视化回归的结果"
   ]
  },
  {
   "cell_type": "code",
   "execution_count": 41,
   "metadata": {},
   "outputs": [
    {
     "data": {
      "image/png": "[encoded data removed]",
      "text/plain": [
       "<Figure size 432x288 with 1 Axes>"
      ]
     },
     "metadata": {
      "needs_background": "light"
     },
     "output_type": "display_data"
    }
   ],
   "source": [
    "# no sence haha\n",
    "with torch.no_grad():\n",
    "    result_y = torch.matmul(features, w) + b\n",
    "    plt.scatter(features[:,0].numpy(), result_y.numpy(), c=\"red\")\n",
    "    plt.show()"
   ]
  },
  {
   "cell_type": "code",
   "execution_count": null,
   "metadata": {},
   "outputs": [],
   "source": []
  }
 ],
 "metadata": {
  "interpreter": {
   "hash": "a1195efe4f7f8c17ae5026672a66e7dbd645e83c5aed4eef4ae7a0a8976d6319"
  },
  "kernelspec": {
   "display_name": "Python 3.9.7 64-bit ('NLP': conda)",
   "language": "python",
   "name": "python3"
  },
  "language_info": {
   "codemirror_mode": {
    "name": "ipython",
    "version": 3
   },
   "file_extension": ".py",
   "mimetype": "text/x-python",
   "name": "python",
   "nbconvert_exporter": "python",
   "pygments_lexer": "ipython3",
   "version": "3.9.7"
  },
  "orig_nbformat": 4
 },
 "nbformat": 4,
 "nbformat_minor": 2
}
