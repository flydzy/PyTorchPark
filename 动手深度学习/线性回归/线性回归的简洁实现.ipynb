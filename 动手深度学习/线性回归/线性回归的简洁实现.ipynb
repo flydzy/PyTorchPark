{
 "cells": [
  {
   "cell_type": "markdown",
   "metadata": {},
   "source": [
    "# 线性回归的简洁实现\n",
    "利用torch的一些已经成熟的库，如损失函数，优化函数，模型等的，就不用自己定义了。创建数据环节都是一样的。"
   ]
  },
  {
   "cell_type": "code",
   "execution_count": 1,
   "metadata": {},
   "outputs": [],
   "source": [
    "import torch\n",
    "import matplotlib.pyplot as plt"
   ]
  },
  {
   "cell_type": "code",
   "execution_count": 2,
   "metadata": {},
   "outputs": [
    {
     "name": "stdout",
     "output_type": "stream",
     "text": [
      "torch.Size([1000, 2]) torch.Size([1000])\n",
      "tensor([ 0.4351, -0.5598]) tensor(6.6048)\n"
     ]
    }
   ],
   "source": [
    "# 创建数据生成函数\n",
    "# 人造数据集\n",
    "def synthetic_data(weight, bias, num_samples):\n",
    "    x = torch.normal(0, 1, (num_samples, len(weight)))  # normal函数 均值为0，方差为1的正态分布\n",
    "    # 矩阵乘以向量\n",
    "    y = torch.matmul(x, weight) + bias\n",
    "    y += torch.normal(0, 0.01, y.shape) # 添加噪声\n",
    "    return x, y\n",
    "weights = torch.tensor([4.0, -1.2], dtype=torch.float32).T\n",
    "bias = torch.tensor(4.2, dtype=torch.float32)\n",
    "features, labels = synthetic_data(weights, bias, 1000)\n",
    "print(features.shape, labels.shape)\n",
    "print(features[0], labels[0])"
   ]
  },
  {
   "cell_type": "markdown",
   "metadata": {},
   "source": [
    "## 1. 使用torch的API创建数据迭代器"
   ]
  },
  {
   "cell_type": "code",
   "execution_count": 6,
   "metadata": {},
   "outputs": [
    {
     "data": {
      "text/plain": [
       "[tensor([[-0.9687, -2.3360],\n",
       "         [-0.9965,  1.0692],\n",
       "         [ 0.1149,  0.3633],\n",
       "         [ 1.9829,  1.4258],\n",
       "         [-0.7503,  1.1261],\n",
       "         [ 0.3197, -0.4763],\n",
       "         [-0.4295,  1.3899],\n",
       "         [ 0.1062, -0.3621],\n",
       "         [ 0.2056,  0.3589],\n",
       "         [ 1.4316, -1.0219]]),\n",
       " tensor([ 3.1419, -1.0648,  4.2317, 10.4315, -0.1586,  6.0617,  0.8066,  5.0571,\n",
       "          4.5952, 11.1447])]"
      ]
     },
     "execution_count": 6,
     "metadata": {},
     "output_type": "execute_result"
    }
   ],
   "source": [
    "from torch.utils import data  # 数据预加载的包在这里\n",
    "def data_loader(data_array, batch_size, is_train=True):\n",
    "    \"\"\"\n",
    "    return:\n",
    "        返回值是一个dataloader对象，包含所有的数据，然后dataloader每次按批量返回数据\n",
    "    \"\"\"\n",
    "    # 将数据集转化成tensor张量格式\n",
    "    data_array = data.TensorDataset(*data_array)\n",
    "    # 将其转化成迭代API\n",
    "    return data.DataLoader(data_array, batch_size, shuffle=is_train)\n",
    "\n",
    "batch_size = 10\n",
    "data_iter = data_loader((features, labels), batch_size)\n",
    "next(iter(data_iter)) # iter是迭代器，使用next方法来遍历可迭代对象的每一个对象"
   ]
  },
  {
   "cell_type": "code",
   "execution_count": null,
   "metadata": {},
   "outputs": [],
   "source": []
  }
 ],
 "metadata": {
  "interpreter": {
   "hash": "a1195efe4f7f8c17ae5026672a66e7dbd645e83c5aed4eef4ae7a0a8976d6319"
  },
  "kernelspec": {
   "display_name": "Python 3.9.7 64-bit ('NLP': conda)",
   "language": "python",
   "name": "python3"
  },
  "language_info": {
   "codemirror_mode": {
    "name": "ipython",
    "version": 3
   },
   "file_extension": ".py",
   "mimetype": "text/x-python",
   "name": "python",
   "nbconvert_exporter": "python",
   "pygments_lexer": "ipython3",
   "version": "3.9.7"
  },
  "orig_nbformat": 4
 },
 "nbformat": 4,
 "nbformat_minor": 2
}
