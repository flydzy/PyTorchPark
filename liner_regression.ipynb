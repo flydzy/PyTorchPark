{
 "cells": [
  {
   "cell_type": "markdown",
   "metadata": {},
   "source": [
    "# 导入相应的包"
   ]
  },
  {
   "cell_type": "code",
   "execution_count": 3,
   "metadata": {},
   "outputs": [],
   "source": [
    "import torch\n",
    "import torch.nn as nn\n",
    "import numpy as np\n",
    "import matplotlib.pyplot as plt"
   ]
  },
  {
   "cell_type": "markdown",
   "metadata": {},
   "source": [
    "# 初始化超参数和数据集"
   ]
  },
  {
   "cell_type": "code",
   "execution_count": 8,
   "metadata": {},
   "outputs": [
    {
     "data": {
      "image/png": "[encoded data removed]",
      "text/plain": [
       "<Figure size 432x288 with 1 Axes>"
      ]
     },
     "metadata": {
      "needs_background": "light"
     },
     "output_type": "display_data"
    }
   ],
   "source": [
    "input_size = 1  # 网络输入数量\n",
    "output_size = 1 # 网络输出的结果的数量\n",
    "num_epochs = 60 # 迭代的代数\n",
    "learning_rate = 0.001\n",
    "\n",
    "x_trian = np.array([[3.3], [4.4], [5.5], [6.71], [6.93], [4.168], \n",
    "                    [9.779], [6.182], [7.59], [2.167], [7.042], \n",
    "                    [10.791], [5.313], [7.997], [3.1]], dtype=np.float32)\n",
    "y_train = np.array([[1.7], [2.76], [2.09], [3.19], [1.694], [1.573], \n",
    "                    [3.366], [2.596], [2.53], [1.221], [2.827], \n",
    "                    [3.465], [1.65], [2.904], [1.3]], dtype=np.float32)\n",
    "\n",
    "plt.plot(x_trian, y_train, 'ro', label='Original Data')\n",
    "plt.title(\"Origin Data Figure\")\n",
    "plt.legend()\n",
    "plt.show()"
   ]
  },
  {
   "cell_type": "markdown",
   "metadata": {},
   "source": [
    "# 创建模型，开始迭代"
   ]
  },
  {
   "cell_type": "code",
   "execution_count": 9,
   "metadata": {},
   "outputs": [
    {
     "name": "stdout",
     "output_type": "stream",
     "text": [
      "Epoch [5/60], Loss:11.2788\n",
      "Epoch [10/60], Loss:4.8635\n",
      "Epoch [15/60], Loss:2.2640\n",
      "Epoch [20/60], Loss:1.2104\n",
      "Epoch [25/60], Loss:0.7831\n",
      "Epoch [30/60], Loss:0.6095\n",
      "Epoch [35/60], Loss:0.5387\n",
      "Epoch [40/60], Loss:0.5095\n",
      "Epoch [45/60], Loss:0.4972\n",
      "Epoch [50/60], Loss:0.4917\n",
      "Epoch [55/60], Loss:0.4890\n",
      "Epoch [60/60], Loss:0.4874\n"
     ]
    },
    {
     "data": {
      "image/png": "[encoded data removed]",
      "text/plain": [
       "<Figure size 432x288 with 1 Axes>"
      ]
     },
     "metadata": {
      "needs_background": "light"
     },
     "output_type": "display_data"
    }
   ],
   "source": [
    "# 选择模型\n",
    "model = nn.Linear(input_size, output_size)\n",
    "# 选择损失函数和优化器\n",
    "loss_fn = nn.MSELoss()  # 均方误差，用于回归任务\n",
    "# 创建优化器，使用随即梯度下降法\n",
    "optmizer = torch.optim.SGD(model.parameters(), lr = learning_rate)\n",
    "\n",
    "for epoch in range(num_epochs):\n",
    "    # 将numpy对象转化为tensor\n",
    "    input = torch.from_numpy(x_trian)\n",
    "    target = torch.from_numpy(y_train)\n",
    "    # 获得模型的输出，作了一次正向传播\n",
    "    outputs = model(input)\n",
    "    loss = loss_fn(outputs, target)\n",
    "    # 反向传播与优化\n",
    "    optmizer.zero_grad()  # 优化器梯度置为0\n",
    "    loss.backward()  # 反向传播，计算梯度保存在tensor的grad属性中\n",
    "    optmizer.step() # 一次优化\n",
    "    if (epoch+1) % 5 == 0:\n",
    "        # 从单元素tensor中获取值，使用item()方法\n",
    "        print('Epoch [{}/{}], Loss:{:.4f}'.format(epoch+1, num_epochs, loss.item()))\n",
    "    \n",
    "# detach()方法，从计算图中获得一个值，且这个tensor永远不用计算其梯度\n",
    "# tensor的numpy()方法，返回对应的numpy数组\n",
    "predicted = model(torch.from_numpy(x_trian)).detach().numpy()\n",
    "plt.plot(x_trian,y_train,'ro',label='Origin data')\n",
    "plt.plot(x_trian,predicted,label='Fitted Line')\n",
    "plt.legend()  # 给图像加上图例\n",
    "plt.show()\n",
    "\n"
   ]
  },
  {
   "cell_type": "markdown",
   "metadata": {},
   "source": [
    "# 模型保存"
   ]
  },
  {
   "cell_type": "code",
   "execution_count": 10,
   "metadata": {},
   "outputs": [],
   "source": [
    "torch.save(model.state_dict(), 'model.ckpt')"
   ]
  }
 ],
 "metadata": {
  "interpreter": {
   "hash": "5f2dd485db4a25afbf62c4235ab875a3fea3f8e9f4ee38ce521033e7c3b9a87d"
  },
  "kernelspec": {
   "display_name": "Python 3.8.10 64-bit ('.env': venv)",
   "name": "python3"
  },
  "language_info": {
   "codemirror_mode": {
    "name": "ipython",
    "version": 3
   },
   "file_extension": ".py",
   "mimetype": "text/x-python",
   "name": "python",
   "nbconvert_exporter": "python",
   "pygments_lexer": "ipython3",
   "version": "3.8.10"
  },
  "orig_nbformat": 4
 },
 "nbformat": 4,
 "nbformat_minor": 2
}
