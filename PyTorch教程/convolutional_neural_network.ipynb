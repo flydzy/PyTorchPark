{
 "cells": [
  {
   "cell_type": "markdown",
   "metadata": {},
   "source": [
    "# 卷积神经网络手写数字识别\n",
    "使用卷积神经网络来完成手写数字识别，卷积神经网络主要分为了以下几层：\n",
    "+ 卷积层\n",
    "+ 池化层\n",
    "  + 最大池化\n",
    "  + 平均池化\n",
    "+ 全连接层\n",
    "\n",
    "## 卷积层\n",
    "卷积层是进行卷积运算，卷积运算有\n",
    "+ `kernel_size`: 卷积核的大小\n",
    "+ `stride`: 步长，即每次的偏移量\n",
    "+ `padding`: 在图像的两端周围补0的个数\n",
    "\n",
    "## 池化层\n",
    "池化层(Pooling Layer)又叫汇聚层，或者叫子采样层(Subsampling Layer),其作用是进行特征选择，降低特征的数量，从而减少参数的数量。将前面输出的特征映射划分为多个区域，然后对这些区域运用池化(汇聚)操作，就可以显著的降低特征的维度。\n",
    "+ 最大池化(汇聚)：对于某个区域$R^d_{m,n}$,选择这个区域的所有神经元的最大的活性值作为这个区域的表示\n",
    "+ 平均池化(汇聚)：一般取区域内所有神经元值的平均值\n",
    "\n",
    "## 全连接层\n",
    "即将最后池化的结果展开，神经元之间是全连接的。\n",
    "\n"
   ]
  },
  {
   "cell_type": "code",
   "execution_count": 33,
   "metadata": {},
   "outputs": [],
   "source": [
    "import torch\n",
    "import torch.nn as nn\n",
    "import torchvision\n",
    "import torchvision.transforms as transforms"
   ]
  },
  {
   "cell_type": "markdown",
   "metadata": {},
   "source": [
    "# 加载数据集"
   ]
  },
  {
   "cell_type": "code",
   "execution_count": 34,
   "metadata": {},
   "outputs": [
    {
     "name": "stdout",
     "output_type": "stream",
     "text": [
      "torch.Size([60000, 28, 28])\n",
      "['0 - zero', '1 - one', '2 - two', '3 - three', '4 - four', '5 - five', '6 - six', '7 - seven', '8 - eight', '9 - nine']\n"
     ]
    }
   ],
   "source": [
    "train_dataset = torchvision.datasets.MNIST(root='../data',download=True,train=True,transform=transforms.ToTensor())\n",
    "test_dataset = torchvision.datasets.MNIST(root='../data',download=True,train=False,transform=transforms.ToTensor())\n",
    "print(train_dataset.data.shape)\n",
    "print(train_dataset.classes)"
   ]
  },
  {
   "cell_type": "markdown",
   "metadata": {},
   "source": [
    "# 设置超参数以及DataLoader"
   ]
  },
  {
   "cell_type": "code",
   "execution_count": 35,
   "metadata": {},
   "outputs": [],
   "source": [
    "nums_class = 10\n",
    "num_epoch = 5\n",
    "learning_rate = 0.001\n",
    "batch_size = 100\n",
    "\n",
    "train_dataloader = torch.utils.data.DataLoader(train_dataset,batch_size=batch_size,shuffle=True)\n",
    "test_dataloader = torch.utils.data.DataLoader(test_dataset,batch_size=batch_size,shuffle=False)"
   ]
  },
  {
   "cell_type": "markdown",
   "metadata": {},
   "source": [
    "# 建立模型\n",
    "两层卷积，再加上全连接"
   ]
  },
  {
   "cell_type": "code",
   "execution_count": 36,
   "metadata": {},
   "outputs": [],
   "source": [
    "class CNN(nn.Module):\n",
    "    def __init__(self, nums_class) -> None:\n",
    "        super(CNN, self).__init__()\n",
    "        self.layer1 = nn.Sequential(\n",
    "            # 原始图片是 28*28的，p=2,周围补两位的0，就变成了32*32\n",
    "            # 进行卷积运算，用16个5*5的卷积核进行卷积（符号记为: 16@5*5）\n",
    "            # 卷积后是 32 - 5 + 1 = 28，成为了16@28*28\n",
    "            nn.Conv2d(1,16,kernel_size=5,padding=2,stride=1),\n",
    "            nn.BatchNorm2d(16), # 卷积结束后进行归一化，防止过拟合\n",
    "            nn.ReLU(),\n",
    "            # 利用最大池化操作，池化核是2，步长是2\n",
    "            # 也就是将整个输出的大小除二\n",
    "            # 结束后输出的是 16@14*14\n",
    "            nn.MaxPool2d(kernel_size=2,stride=2)\n",
    "        )\n",
    "        self.layer2 = nn.Sequential(\n",
    "            # 上一层卷积输出的是16@14*14\n",
    "            # 一般的卷积都是减少输出的大小，增加生成的个数\n",
    "            # 所以，在此处依然进行一样的卷积和池化，使得变成32@7*7\n",
    "            nn.Conv2d(in_channels=16,out_channels=32,kernel_size=5, stride=1,padding=2), # 32@14*14\n",
    "            nn.BatchNorm2d(32),\n",
    "            nn.ReLU(),\n",
    "            nn.MaxPool2d(kernel_size=2, stride=2)  # 32@7*&\n",
    "        )\n",
    "        # 全连接层\n",
    "        # 上面是 32@7*7,使用linear与十个分类全连接，展开操作在训练的时候reshape\n",
    "        self.fc = nn.Linear(32*7*7, nums_class)\n",
    "\n",
    "    def forward(self, x):\n",
    "        out = self.layer1(x)\n",
    "        out = self.layer2(out)\n",
    "        out = out.reshape(out.size(0),-1)\n",
    "        out = self.fc(out)\n",
    "        return out"
   ]
  },
  {
   "cell_type": "markdown",
   "metadata": {},
   "source": [
    "# 创建模型，开始计算"
   ]
  },
  {
   "cell_type": "code",
   "execution_count": 37,
   "metadata": {},
   "outputs": [
    {
     "name": "stdout",
     "output_type": "stream",
     "text": [
      "Epoch [0/5],Step [100/600], loss:0.1600\n",
      "Epoch [0/5],Step [200/600], loss:0.1311\n",
      "Epoch [0/5],Step [300/600], loss:0.1025\n",
      "Epoch [0/5],Step [400/600], loss:0.0560\n",
      "Epoch [0/5],Step [500/600], loss:0.0805\n",
      "Epoch [0/5],Step [600/600], loss:0.0469\n",
      "Epoch [1/5],Step [100/600], loss:0.0898\n",
      "Epoch [1/5],Step [200/600], loss:0.1088\n",
      "Epoch [1/5],Step [300/600], loss:0.0506\n",
      "Epoch [1/5],Step [400/600], loss:0.0332\n",
      "Epoch [1/5],Step [500/600], loss:0.0113\n",
      "Epoch [1/5],Step [600/600], loss:0.0452\n",
      "Epoch [2/5],Step [100/600], loss:0.0259\n",
      "Epoch [2/5],Step [200/600], loss:0.0497\n",
      "Epoch [2/5],Step [300/600], loss:0.0866\n",
      "Epoch [2/5],Step [400/600], loss:0.0060\n",
      "Epoch [2/5],Step [500/600], loss:0.0189\n",
      "Epoch [2/5],Step [600/600], loss:0.0050\n",
      "Epoch [3/5],Step [100/600], loss:0.0401\n",
      "Epoch [3/5],Step [200/600], loss:0.0076\n",
      "Epoch [3/5],Step [300/600], loss:0.0520\n",
      "Epoch [3/5],Step [400/600], loss:0.0071\n",
      "Epoch [3/5],Step [500/600], loss:0.0199\n",
      "Epoch [3/5],Step [600/600], loss:0.0745\n",
      "Epoch [4/5],Step [100/600], loss:0.0258\n",
      "Epoch [4/5],Step [200/600], loss:0.0240\n",
      "Epoch [4/5],Step [300/600], loss:0.0181\n",
      "Epoch [4/5],Step [400/600], loss:0.1273\n",
      "Epoch [4/5],Step [500/600], loss:0.0735\n",
      "Epoch [4/5],Step [600/600], loss:0.0446\n"
     ]
    }
   ],
   "source": [
    "device = 'cuda' if torch.cuda.is_available() else 'cpu'\n",
    "cnn = CNN(nums_class).to(device)\n",
    "\n",
    "# 定义损失函数\n",
    "loss_fn = nn.CrossEntropyLoss()\n",
    "# 定义优化器\n",
    "optmizer = torch.optim.Adam(cnn.parameters(),lr=learning_rate)\n",
    "\n",
    "# 开始训练\n",
    "total_step = len(train_dataloader)\n",
    "for epoch in range(num_epoch):\n",
    "    for i,(images,labels) in enumerate(train_dataloader):\n",
    "        images = images.to(device)\n",
    "        labels = labels.to(device)\n",
    "\n",
    "        # 前向传播\n",
    "        outputs = cnn(images)\n",
    "        # 计算损失值\n",
    "        loss = loss_fn(outputs, labels)\n",
    "\n",
    "        # 反向传播\n",
    "        optmizer.zero_grad()\n",
    "        loss.backward()\n",
    "        optmizer.step()\n",
    "        \n",
    "        if (i + 1) % 100 == 0:\n",
    "            print(\"Epoch [{}/{}],Step [{}/{}], loss:{:.4f}\".format(epoch+1, num_epoch, i+1,total_step,loss.item() ))"
   ]
  },
  {
   "cell_type": "markdown",
   "metadata": {},
   "source": [
    "# 测试准确率"
   ]
  },
  {
   "cell_type": "code",
   "execution_count": 38,
   "metadata": {},
   "outputs": [
    {
     "name": "stdout",
     "output_type": "stream",
     "text": [
      "准确率为:98.820%\n"
     ]
    }
   ],
   "source": [
    "cnn.eval()  # 与no_grad配合运算，关闭梯度计算和归一化的不同\n",
    "total_num = 0\n",
    "correct_num = 0\n",
    "with torch.no_grad():\n",
    "    for images, labels in test_dataloader:\n",
    "        images = images.to(device)\n",
    "        labels = labels.to(device)\n",
    "\n",
    "        outputs = cnn(images)\n",
    "\n",
    "        _,predicted = torch.max(outputs, 1)\n",
    "        total_num += outputs.size(0)\n",
    "        correct_num += (predicted == labels).sum()\n",
    "    print(\"准确率为:{:.3f}%\".format(100*correct_num/total_num))"
   ]
  },
  {
   "cell_type": "code",
   "execution_count": null,
   "metadata": {},
   "outputs": [],
   "source": []
  }
 ],
 "metadata": {
  "interpreter": {
   "hash": "5f2dd485db4a25afbf62c4235ab875a3fea3f8e9f4ee38ce521033e7c3b9a87d"
  },
  "kernelspec": {
   "display_name": "Python 3.8.10 64-bit ('.env': venv)",
   "name": "python3"
  },
  "language_info": {
   "codemirror_mode": {
    "name": "ipython",
    "version": 3
   },
   "file_extension": ".py",
   "mimetype": "text/x-python",
   "name": "python",
   "nbconvert_exporter": "python",
   "pygments_lexer": "ipython3",
   "version": "3.8.10"
  },
  "orig_nbformat": 4
 },
 "nbformat": 4,
 "nbformat_minor": 2
}
