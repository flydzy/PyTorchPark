{
 "cells": [
  {
   "cell_type": "markdown",
   "metadata": {},
   "source": [
    "# 导入包\n",
    "> 本节代码以手写数字分类为数据集，训练逻辑回归"
   ]
  },
  {
   "cell_type": "code",
   "execution_count": 1,
   "metadata": {},
   "outputs": [],
   "source": [
    "import torch\n",
    "import torch.nn as nn\n",
    "import torchvision\n",
    "import torchvision.transforms as transforms"
   ]
  },
  {
   "cell_type": "markdown",
   "metadata": {},
   "source": [
    "# 加载数据集\n",
    "由于要设计网络结构，设置输入输出，所以对于一个未知的数据集，应该先获取其数据集的相关信息，再来设计网络。"
   ]
  },
  {
   "cell_type": "code",
   "execution_count": 35,
   "metadata": {},
   "outputs": [
    {
     "name": "stdout",
     "output_type": "stream",
     "text": [
      "数据集情况 torch.Size([1, 28, 28])\n",
      "标签情况 ['0 - zero', '1 - one', '2 - two', '3 - three', '4 - four', '5 - five', '6 - six', '7 - seven', '8 - eight', '9 - nine']\n",
      "训练集大小 60000\n",
      "测试集大小 10000\n"
     ]
    }
   ],
   "source": [
    "# @root 数据集存储位置\n",
    "# @train 是否为训练集\n",
    "# @transform 转换器，将图像转换成tensor\n",
    "# @download 如果指定位置数据集不存在，则下载到指定位置\n",
    "train_dataset = torchvision.datasets.MNIST(root='data', train=True, transform=transforms.ToTensor(),download=True)\n",
    "test_dataset = torchvision.datasets.MNIST(root='data',train=False,transform=transforms.ToTensor(),download=True)\n",
    "\n",
    "# 查看数据图片情况\n",
    "print('数据集情况', train_dataset[0][0].size())\n",
    "# 查看标签情况\n",
    "print('标签情况', train_dataset.classes)\n",
    "# 查看数据集大小\n",
    "print('训练集大小', len(train_dataset))\n",
    "print('测试集大小', len(test_dataset))"
   ]
  },
  {
   "cell_type": "markdown",
   "metadata": {},
   "source": [
    "# 设置超参数\n",
    "\n",
    "1. 输入数据的大小 input_size\n",
    "2. 输出类别的大小 num_classes\n",
    "3. 迭代次数      epochs\n",
    "4. 每批次数量    batch_size"
   ]
  },
  {
   "cell_type": "code",
   "execution_count": 36,
   "metadata": {},
   "outputs": [],
   "source": [
    "# 由于每一张图片时 1*28*28的，所以数据大小为1*28*28\n",
    "input_size = 1 * 28 * 28\n",
    "# 输入classer有10类，所以num_classes 设置为 10\n",
    "num_classes = 10\n",
    "num_epochs = 5\n",
    "batch_size = 100\n",
    "learning_rate = 0.001\n"
   ]
  },
  {
   "cell_type": "markdown",
   "metadata": {},
   "source": [
    "# 模型建立"
   ]
  },
  {
   "cell_type": "code",
   "execution_count": 42,
   "metadata": {},
   "outputs": [],
   "source": [
    "# 加载数据集\n",
    "train_dataloader = torch.utils.data.DataLoader(dataset=train_dataset, batch_size=batch_size,shuffle=True)\n",
    "test_dataloader = torch.utils.data.DataLoader(dataset=test_dataset, batch_size=batch_size,shuffle=False)\n",
    "model = nn.Linear(input_size, num_classes)\n",
    "# 交叉商损失函数，结合了对数似然损失和softmax多分类，也就不用在模型上加上softmax\n",
    "# 这一点跟纯numpy实现的还不太一样\n",
    "loss_fn = nn.CrossEntropyLoss() \n",
    "optmizer = torch.optim.SGD(model.parameters(), lr = learning_rate)\n"
   ]
  },
  {
   "cell_type": "markdown",
   "metadata": {},
   "source": [
    "# 循环训练模型"
   ]
  },
  {
   "cell_type": "code",
   "execution_count": 43,
   "metadata": {},
   "outputs": [
    {
     "name": "stdout",
     "output_type": "stream",
     "text": [
      "Epoch [1/5], step[100/600], Loss:2.2030\n",
      "Epoch [1/5], step[200/600], Loss:2.0914\n",
      "Epoch [1/5], step[300/600], Loss:1.9912\n",
      "Epoch [1/5], step[400/600], Loss:1.9087\n",
      "Epoch [1/5], step[500/600], Loss:1.8025\n",
      "Epoch [1/5], step[600/600], Loss:1.8199\n",
      "Epoch [2/5], step[100/600], Loss:1.7914\n",
      "Epoch [2/5], step[200/600], Loss:1.6084\n",
      "Epoch [2/5], step[300/600], Loss:1.6446\n",
      "Epoch [2/5], step[400/600], Loss:1.5335\n",
      "Epoch [2/5], step[500/600], Loss:1.5206\n",
      "Epoch [2/5], step[600/600], Loss:1.5038\n",
      "Epoch [3/5], step[100/600], Loss:1.3958\n",
      "Epoch [3/5], step[200/600], Loss:1.3825\n",
      "Epoch [3/5], step[300/600], Loss:1.2799\n",
      "Epoch [3/5], step[400/600], Loss:1.2613\n",
      "Epoch [3/5], step[500/600], Loss:1.3486\n",
      "Epoch [3/5], step[600/600], Loss:1.2173\n",
      "Epoch [4/5], step[100/600], Loss:1.1636\n",
      "Epoch [4/5], step[200/600], Loss:1.1495\n",
      "Epoch [4/5], step[300/600], Loss:1.1194\n",
      "Epoch [4/5], step[400/600], Loss:1.1845\n",
      "Epoch [4/5], step[500/600], Loss:1.1303\n",
      "Epoch [4/5], step[600/600], Loss:1.1192\n",
      "Epoch [5/5], step[100/600], Loss:1.0622\n",
      "Epoch [5/5], step[200/600], Loss:1.1049\n",
      "Epoch [5/5], step[300/600], Loss:0.9865\n",
      "Epoch [5/5], step[400/600], Loss:1.0188\n",
      "Epoch [5/5], step[500/600], Loss:0.9549\n",
      "Epoch [5/5], step[600/600], Loss:0.9908\n"
     ]
    }
   ],
   "source": [
    "total_step = len(train_dataloader)\n",
    "for epoch in range(num_epochs):\n",
    "    for i,(images, labels) in enumerate(train_dataloader):\n",
    "        # 因为输入大小时28*28,所以要将图像展开为28*28\n",
    "        # 如果第一个值是-1，那么会根据剩下的值来计算最终的维度\n",
    "        # 也就是保证一定有28*28列，多少行由计算决定\n",
    "        images = images.reshape(-1, input_size)\n",
    "\n",
    "        # 前向传播输入模型\n",
    "        outputs = model(images)\n",
    "\n",
    "        # 计算误差\n",
    "        loss = loss_fn(outputs, labels)\n",
    "\n",
    "        # 反向传播计算梯度，优化\n",
    "        optmizer.zero_grad()\n",
    "        loss.backward()\n",
    "        optmizer.step()\n",
    "\n",
    "        if (i+1) % 100 == 0:\n",
    "            print('Epoch [{}/{}], step[{}/{}], Loss:{:.4f}'.format(epoch+1,num_epochs, i+1,total_step,loss.item()))\n"
   ]
  },
  {
   "cell_type": "markdown",
   "metadata": {},
   "source": [
    "# 测试模型的准确性"
   ]
  },
  {
   "cell_type": "code",
   "execution_count": 44,
   "metadata": {},
   "outputs": [
    {
     "name": "stdout",
     "output_type": "stream",
     "text": [
      "准确率为：82.81999969482422 %\n"
     ]
    }
   ],
   "source": [
    "\n",
    " # 使用no_grad()区块，测试时无需 计算梯度\n",
    "with torch.no_grad():\n",
    "    correct = 0\n",
    "    total = 0\n",
    "    # 100 张图片，100个标签\n",
    "    for images, labels in test_dataloader:\n",
    "        images = images.reshape(-1, input_size)\n",
    "        outputs = model(images)\n",
    "        # 找到最大的那一类\n",
    "        _, predicted = torch.max(outputs.data, 1)\n",
    "        # 获取总数\n",
    "        total += labels.size(0)\n",
    "        correct += (predicted == labels).sum()\n",
    "    print('准确率为：{} %'.format(100*correct/total))"
   ]
  },
  {
   "cell_type": "markdown",
   "metadata": {},
   "source": [
    "# 延伸\n",
    "将模型和tensor放到cuda上训练\n",
    "+ 将所有的数据集都放到cuda上\n",
    "+ 将模型也放到cuda上"
   ]
  },
  {
   "cell_type": "code",
   "execution_count": 51,
   "metadata": {},
   "outputs": [
    {
     "name": "stdout",
     "output_type": "stream",
     "text": [
      "Epoch [1/5], step[100/600], Loss:0.6235\n",
      "Epoch [1/5], step[200/600], Loss:0.7005\n",
      "Epoch [1/5], step[300/600], Loss:0.6553\n",
      "Epoch [1/5], step[400/600], Loss:0.6716\n",
      "Epoch [1/5], step[500/600], Loss:0.6629\n",
      "Epoch [1/5], step[600/600], Loss:0.6344\n",
      "Epoch [2/5], step[100/600], Loss:0.5944\n",
      "Epoch [2/5], step[200/600], Loss:0.6103\n",
      "Epoch [2/5], step[300/600], Loss:0.7032\n",
      "Epoch [2/5], step[400/600], Loss:0.6198\n",
      "Epoch [2/5], step[500/600], Loss:0.6450\n",
      "Epoch [2/5], step[600/600], Loss:0.6484\n",
      "Epoch [3/5], step[100/600], Loss:0.6300\n",
      "Epoch [3/5], step[200/600], Loss:0.5855\n",
      "Epoch [3/5], step[300/600], Loss:0.5340\n",
      "Epoch [3/5], step[400/600], Loss:0.6380\n",
      "Epoch [3/5], step[500/600], Loss:0.5803\n",
      "Epoch [3/5], step[600/600], Loss:0.6930\n",
      "Epoch [4/5], step[100/600], Loss:0.5791\n",
      "Epoch [4/5], step[200/600], Loss:0.5222\n",
      "Epoch [4/5], step[300/600], Loss:0.4864\n",
      "Epoch [4/5], step[400/600], Loss:0.5254\n",
      "Epoch [4/5], step[500/600], Loss:0.6125\n",
      "Epoch [4/5], step[600/600], Loss:0.6559\n",
      "Epoch [5/5], step[100/600], Loss:0.6015\n",
      "Epoch [5/5], step[200/600], Loss:0.6128\n",
      "Epoch [5/5], step[300/600], Loss:0.5787\n",
      "Epoch [5/5], step[400/600], Loss:0.5658\n",
      "Epoch [5/5], step[500/600], Loss:0.5540\n",
      "Epoch [5/5], step[600/600], Loss:0.6010\n",
      "准确率为:87.43999481201172%\n"
     ]
    }
   ],
   "source": [
    "model2 = model.cuda()\n",
    "total_step = len(train_dataloader)\n",
    "for epoch in range(num_epochs):\n",
    "    for i,(images, labels) in enumerate(train_dataloader):\n",
    "        # 因为输入大小时28*28,所以要将图像展开为28*28\n",
    "        # 如果第一个值是-1，那么会根据剩下的值来计算最终的维度\n",
    "        # 也就是保证一定有28*28列，多少行由计算决定\n",
    "        images = images.reshape(-1, input_size)\n",
    "        # 放入GPU\n",
    "        images = images.cuda()\n",
    "        labels = labels.cuda()\n",
    "        # 前向传播输入模型\n",
    "        outputs = model2(images)\n",
    "\n",
    "        # 计算误差\n",
    "        loss = loss_fn(outputs, labels)\n",
    "\n",
    "        # 反向传播计算梯度，优化\n",
    "        optmizer.zero_grad()\n",
    "        loss.backward()\n",
    "        optmizer.step()\n",
    "\n",
    "        if (i+1) % 100 == 0:\n",
    "            print('Epoch [{}/{}], step[{}/{}], Loss:{:.4f}'.format(epoch+1,num_epochs, i+1,total_step,loss.item()))\n",
    "\n",
    "with torch.no_grad():\n",
    "    total = 0\n",
    "    correct = 0\n",
    "    for images, labels in test_dataloader:\n",
    "        images = images.reshape(-1, input_size)\n",
    "        images= images.cuda()\n",
    "        labels = labels.cuda()\n",
    "        outputs = model2(images)\n",
    "        _, predicted = torch.max(outputs.data, 1)\n",
    "        total += labels.size(0)\n",
    "        correct += (predicted == labels).sum()\n",
    "    print('准确率为:{}%'.format(100*correct/total))"
   ]
  },
  {
   "cell_type": "code",
   "execution_count": null,
   "metadata": {},
   "outputs": [],
   "source": []
  }
 ],
 "metadata": {
  "interpreter": {
   "hash": "5f2dd485db4a25afbf62c4235ab875a3fea3f8e9f4ee38ce521033e7c3b9a87d"
  },
  "kernelspec": {
   "display_name": "Python 3.8.10 64-bit ('.env': venv)",
   "name": "python3"
  },
  "language_info": {
   "codemirror_mode": {
    "name": "ipython",
    "version": 3
   },
   "file_extension": ".py",
   "mimetype": "text/x-python",
   "name": "python",
   "nbconvert_exporter": "python",
   "pygments_lexer": "ipython3",
   "version": "3.8.10"
  },
  "orig_nbformat": 4
 },
 "nbformat": 4,
 "nbformat_minor": 2
}
